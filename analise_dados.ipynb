{
 "cells": [
  {
   "cell_type": "markdown",
   "metadata": {},
   "source": [
    "## Resolução do Desafio Técnico \n"
   ]
  },
  {
   "cell_type": "markdown",
   "metadata": {},
   "source": [
    "**1º passo:**"
   ]
  },
  {
   "cell_type": "code",
   "execution_count": 1,
   "metadata": {},
   "outputs": [
    {
     "name": "stdout",
     "output_type": "stream",
     "text": [
      "<class 'pandas.core.frame.DataFrame'>\n",
      "RangeIndex: 100 entries, 0 to 99\n",
      "Data columns (total 3 columns):\n",
      " #   Column   Non-Null Count  Dtype  \n",
      "---  ------   --------------  -----  \n",
      " 0   Mês      100 non-null    object \n",
      " 1   Produto  100 non-null    object \n",
      " 2   Valor    100 non-null    float64\n",
      "dtypes: float64(1), object(2)\n",
      "memory usage: 2.5+ KB\n"
     ]
    }
   ],
   "source": [
    "import pandas as pd\n",
    "\n",
    "sales_data = pd.read_csv('dados_vendas.csv', encoding='ISO 8859-1', delimiter=',') # Carregar o arquivo .csv usando o encoding ISO 8859-1 para reconhecer os caracteres especiais \n",
    "sales_data.head()\n",
    "sales_data.info()\n"
   ]
  },
  {
   "cell_type": "markdown",
   "metadata": {},
   "source": [
    "**2º passo:**"
   ]
  },
  {
   "cell_type": "code",
   "execution_count": 2,
   "metadata": {},
   "outputs": [
    {
     "name": "stdout",
     "output_type": "stream",
     "text": [
      "<class 'pandas.core.frame.DataFrame'>\n",
      "RangeIndex: 100 entries, 0 to 99\n",
      "Data columns (total 3 columns):\n",
      " #   Column   Non-Null Count  Dtype  \n",
      "---  ------   --------------  -----  \n",
      " 0   Mês      100 non-null    object \n",
      " 1   Produto  100 non-null    object \n",
      " 2   Valor    100 non-null    float64\n",
      "dtypes: float64(1), object(2)\n",
      "memory usage: 2.5+ KB\n"
     ]
    }
   ],
   "source": [
    "sales_data = sales_data.drop_duplicates() # Remover linhas duplicadas\n",
    "sales_data = sales_data.dropna() # Remover valores nulos\n",
    "sales_data.info()\n"
   ]
  },
  {
   "cell_type": "markdown",
   "metadata": {},
   "source": [
    "**3º passo:**"
   ]
  },
  {
   "cell_type": "code",
   "execution_count": 3,
   "metadata": {},
   "outputs": [
    {
     "name": "stdout",
     "output_type": "stream",
     "text": [
      "         Mês  Valor_total\n",
      "1  Fevereiro     13112.64\n",
      "3      Junho      8096.58\n",
      "0      Abril      7370.79\n",
      "2    Janeiro      7157.56\n",
      "4       Maio      5152.21\n",
      "5      Março      5055.72\n"
     ]
    }
   ],
   "source": [
    "total_monthly_sales = sales_data.groupby('Mês')['Valor'].sum().reset_index() # Somar os valores agrupados por mês\n",
    "total_monthly_sales.rename(columns={'Valor': 'Valor_total'}, inplace=True) \n",
    "total_monthly_sales = total_monthly_sales.sort_values(by='Valor_total', ascending=False) # Organizar os resultados em ordem descendente\n",
    "print(total_monthly_sales)"
   ]
  },
  {
   "cell_type": "markdown",
   "metadata": {},
   "source": [
    "**4º passo:**"
   ]
  },
  {
   "cell_type": "code",
   "execution_count": 4,
   "metadata": {},
   "outputs": [
    {
     "name": "stdout",
     "output_type": "stream",
     "text": [
      "     Produto     Valor\n",
      "0  Produto A  13591.03\n",
      "3  Produto D  12618.22\n",
      "2  Produto C  10970.52\n"
     ]
    }
   ],
   "source": [
    "product_sales = sales_data.groupby('Produto')['Valor'].sum().reset_index() # Somar os valores agrupados por produtos\n",
    "product_sales = product_sales.sort_values(by='Valor', ascending=False) # Organizar os resultados em ordem descendente\n",
    "best_sellers = product_sales.head(3) # Mostrar apenas os três mais vendidos\n",
    "print(best_sellers)"
   ]
  },
  {
   "cell_type": "markdown",
   "metadata": {},
   "source": [
    "**5º passo:**"
   ]
  },
  {
   "cell_type": "code",
   "execution_count": 5,
   "metadata": {},
   "outputs": [
    {
     "name": "stdout",
     "output_type": "stream",
     "text": [
      "Média das vendas: R$ 459.45\n",
      "Mediana das vendas: R$ 436.02\n",
      "Desvio padrão das vendas: R$ 316.3\n"
     ]
    }
   ],
   "source": [
    "sales_mean = round(sales_data['Valor'].mean(), 2) # Calcular a média\n",
    "sales_median = round(sales_data['Valor'].median(), 2) # Calcular a mediana\n",
    "sales_std = round(sales_data['Valor'].std(), 2) # Calcular o desvio padrão\n",
    "\n",
    "print(\"Média das vendas: R$\", sales_mean)\n",
    "print(\"Mediana das vendas: R$\", sales_median)\n",
    "print(\"Desvio padrão das vendas: R$\", sales_std)"
   ]
  }
 ],
 "metadata": {
  "kernelspec": {
   "display_name": "Python 3",
   "language": "python",
   "name": "python3"
  },
  "language_info": {
   "codemirror_mode": {
    "name": "ipython",
    "version": 3
   },
   "file_extension": ".py",
   "mimetype": "text/x-python",
   "name": "python",
   "nbconvert_exporter": "python",
   "pygments_lexer": "ipython3",
   "version": "3.12.1"
  }
 },
 "nbformat": 4,
 "nbformat_minor": 2
}
